{
  "nbformat": 4,
  "nbformat_minor": 0,
  "metadata": {
    "colab": {
      "name": "scratchpad",
      "provenance": [],
      "include_colab_link": true
    },
    "kernelspec": {
      "display_name": "Python 3",
      "name": "python3"
    }
  },
  "cells": [
    {
      "cell_type": "markdown",
      "metadata": {
        "id": "view-in-github",
        "colab_type": "text"
      },
      "source": [
        "<a href=\"https://colab.research.google.com/github/AlexMcClung/IPEDS-Examples/blob/master/kelchen-aux-revenue-density.ipynb\" target=\"_parent\"><img src=\"https://colab.research.google.com/assets/colab-badge.svg\" alt=\"Open In Colab\"/></a>"
      ]
    },
    {
      "cell_type": "code",
      "metadata": {
        "colab_type": "code",
        "id": "lIYdn1woOS1n",
        "colab": {}
      },
      "source": [
        "import pandas as pd\n",
        "import matplotlib.pyplot as plt\n",
        "import seaborn as sns\n",
        "\n",
        "%matplotlib inline\n",
        "\n",
        "df = pd.read_excel('https://github.com/AlexMcClung/IPEDS-Examples/blob/master/Auxiliary%20Revenue/auxiliaryrevenue_jun20.xlsx?raw=true')"
      ],
      "execution_count": 34,
      "outputs": []
    },
    {
      "cell_type": "code",
      "metadata": {
        "id": "Gszy79uTV9ZU",
        "colab_type": "code",
        "colab": {
          "base_uri": "https://localhost:8080/",
          "height": 204
        },
        "outputId": "28f8c169-b823-45ea-ead6-5e93e9eef7ef"
      },
      "source": [
        "df.sample(5)"
      ],
      "execution_count": 35,
      "outputs": [
        {
          "output_type": "execute_result",
          "data": {
            "text/html": [
              "<div>\n",
              "<style scoped>\n",
              "    .dataframe tbody tr th:only-of-type {\n",
              "        vertical-align: middle;\n",
              "    }\n",
              "\n",
              "    .dataframe tbody tr th {\n",
              "        vertical-align: top;\n",
              "    }\n",
              "\n",
              "    .dataframe thead th {\n",
              "        text-align: right;\n",
              "    }\n",
              "</style>\n",
              "<table border=\"1\" class=\"dataframe\">\n",
              "  <thead>\n",
              "    <tr style=\"text-align: right;\">\n",
              "      <th></th>\n",
              "      <th>UnitID</th>\n",
              "      <th>name</th>\n",
              "      <th>state</th>\n",
              "      <th>Total revenue ($mil)</th>\n",
              "      <th>Tuition revenue ($mil)</th>\n",
              "      <th>Auxiliary revenue ($mil)</th>\n",
              "      <th>Revenue from tuition (pct)</th>\n",
              "      <th>Revenue from auxiliary enterprises (pct)</th>\n",
              "    </tr>\n",
              "  </thead>\n",
              "  <tbody>\n",
              "    <tr>\n",
              "      <th>423</th>\n",
              "      <td>166452</td>\n",
              "      <td>Lesley University</td>\n",
              "      <td>MA</td>\n",
              "      <td>109.600000</td>\n",
              "      <td>69.930431</td>\n",
              "      <td>19.236070</td>\n",
              "      <td>0.638051</td>\n",
              "      <td>0.175512</td>\n",
              "    </tr>\n",
              "    <tr>\n",
              "      <th>1201</th>\n",
              "      <td>218751</td>\n",
              "      <td>Sherman College of Chiropractic</td>\n",
              "      <td>SC</td>\n",
              "      <td>14.427550</td>\n",
              "      <td>11.518372</td>\n",
              "      <td>0.060308</td>\n",
              "      <td>0.798360</td>\n",
              "      <td>0.004180</td>\n",
              "    </tr>\n",
              "    <tr>\n",
              "      <th>726</th>\n",
              "      <td>228149</td>\n",
              "      <td>St. Mary's University</td>\n",
              "      <td>TX</td>\n",
              "      <td>113.100000</td>\n",
              "      <td>56.907000</td>\n",
              "      <td>12.917000</td>\n",
              "      <td>0.503156</td>\n",
              "      <td>0.114209</td>\n",
              "    </tr>\n",
              "    <tr>\n",
              "      <th>899</th>\n",
              "      <td>366793</td>\n",
              "      <td>Baptist Theological Seminary at Richmond</td>\n",
              "      <td>VA</td>\n",
              "      <td>1.748769</td>\n",
              "      <td>0.408630</td>\n",
              "      <td>0.132408</td>\n",
              "      <td>0.233667</td>\n",
              "      <td>0.075715</td>\n",
              "    </tr>\n",
              "    <tr>\n",
              "      <th>992</th>\n",
              "      <td>156222</td>\n",
              "      <td>Asbury Theological Seminary</td>\n",
              "      <td>KY</td>\n",
              "      <td>37.999387</td>\n",
              "      <td>9.501648</td>\n",
              "      <td>2.021310</td>\n",
              "      <td>0.250047</td>\n",
              "      <td>0.053193</td>\n",
              "    </tr>\n",
              "  </tbody>\n",
              "</table>\n",
              "</div>"
            ],
            "text/plain": [
              "      UnitID  ... Revenue from auxiliary enterprises (pct)\n",
              "423   166452  ...                                 0.175512\n",
              "1201  218751  ...                                 0.004180\n",
              "726   228149  ...                                 0.114209\n",
              "899   366793  ...                                 0.075715\n",
              "992   156222  ...                                 0.053193\n",
              "\n",
              "[5 rows x 8 columns]"
            ]
          },
          "metadata": {
            "tags": []
          },
          "execution_count": 35
        }
      ]
    },
    {
      "cell_type": "code",
      "metadata": {
        "id": "Vru4wlg4WGYy",
        "colab_type": "code",
        "colab": {
          "base_uri": "https://localhost:8080/",
          "height": 153
        },
        "outputId": "af410463-74f6-4f43-8f7c-e3c93cf9e023"
      },
      "source": [
        "df.columns.to_list()"
      ],
      "execution_count": 36,
      "outputs": [
        {
          "output_type": "execute_result",
          "data": {
            "text/plain": [
              "['UnitID',\n",
              " 'name',\n",
              " 'state',\n",
              " 'Total revenue ($mil)',\n",
              " 'Tuition revenue ($mil)',\n",
              " 'Auxiliary revenue ($mil)',\n",
              " 'Revenue from tuition (pct)',\n",
              " 'Revenue from auxiliary enterprises (pct)']"
            ]
          },
          "metadata": {
            "tags": []
          },
          "execution_count": 36
        }
      ]
    },
    {
      "cell_type": "code",
      "metadata": {
        "id": "sL96AXFYVnJ6",
        "colab_type": "code",
        "colab": {
          "base_uri": "https://localhost:8080/",
          "height": 405
        },
        "outputId": "7115af1e-22e0-4fc0-a258-f07ab3a5f914"
      },
      "source": [
        "plt.figure(figsize=(16,6))\n",
        "\n",
        "sns.distplot(df['Revenue from auxiliary enterprises (pct)'], \n",
        "             hist=False)"
      ],
      "execution_count": 39,
      "outputs": [
        {
          "output_type": "execute_result",
          "data": {
            "text/plain": [
              "<matplotlib.axes._subplots.AxesSubplot at 0x7fa5baf5f3c8>"
            ]
          },
          "metadata": {
            "tags": []
          },
          "execution_count": 39
        },
        {
          "output_type": "display_data",
          "data": {
            "image/png": "[encoded data removed]",
            "text/plain": [
              "<Figure size 1152x432 with 1 Axes>"
            ]
          },
          "metadata": {
            "tags": [],
            "needs_background": "light"
          }
        }
      ]
    }
  ]
}